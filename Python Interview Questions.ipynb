{
 "cells": [
  {
   "cell_type": "markdown",
   "id": "cf9139bc",
   "metadata": {},
   "source": [
    "### 1. What  is mutable and immutable?\n",
    "- Mutable-you can change data structure like update, delete (ex.-lists, values in a dictionary).\n",
    "- Immutable - you can not change data structure after created. (ex-integers, strings, float, bool, tuples, keys of a dictionary)"
   ]
  },
  {
   "cell_type": "markdown",
   "id": "9e81b7bf",
   "metadata": {},
   "source": [
    "### 2. What is difference between list and tuples?\n",
    "- List is mutable and slower than the tuple"
   ]
  },
  {
   "cell_type": "code",
   "execution_count": 5,
   "id": "e218c7b3",
   "metadata": {},
   "outputs": [
    {
     "name": "stdout",
     "output_type": "stream",
     "text": [
      "[1, 1, 2, 3]\n",
      "<class 'list'>\n"
     ]
    }
   ],
   "source": [
    "l1 = [1,1,2,3]\n",
    "print(l1)\n",
    "print(type(l1))"
   ]
  },
  {
   "cell_type": "markdown",
   "id": "d335886c",
   "metadata": {},
   "source": [
    "- Tuple is immutable and faster than the list"
   ]
  },
  {
   "cell_type": "code",
   "execution_count": 6,
   "id": "5fbca3bf",
   "metadata": {},
   "outputs": [
    {
     "name": "stdout",
     "output_type": "stream",
     "text": [
      "(1, 2, 3, 4)\n",
      "<class 'tuple'>\n"
     ]
    }
   ],
   "source": [
    "tup = (1,2,3,4)\n",
    "print(tup)\n",
    "print(type(tup))"
   ]
  },
  {
   "cell_type": "markdown",
   "id": "392c9da6",
   "metadata": {},
   "source": [
    "### 3. What are list and dictionary comprehension?\n",
    "- These are generally more compact and faster than normal functions and loops for creating lists.Must avoid writing very long comprehensions in one line to ensure that code is user-friendly and to maintain the readability."
   ]
  },
  {
   "cell_type": "code",
   "execution_count": 8,
   "id": "00b040cb",
   "metadata": {},
   "outputs": [
    {
     "name": "stdout",
     "output_type": "stream",
     "text": [
      "[0, 1, 2, 3, 4]\n"
     ]
    }
   ],
   "source": [
    "#List comprehension\n",
    "n=7\n",
    "l1 = [i for i in range(n) if i<5]\n",
    "print(l1)"
   ]
  },
  {
   "cell_type": "code",
   "execution_count": 9,
   "id": "12adab19",
   "metadata": {},
   "outputs": [
    {
     "data": {
      "text/plain": [
       "{'Name': 'Nikunj Ramani', 'Age': 24, 'State': 'Gujarat'}"
      ]
     },
     "execution_count": 9,
     "metadata": {},
     "output_type": "execute_result"
    }
   ],
   "source": [
    "#Dictionary comprehension\n",
    "keys = [\"Name\",\"Age\",\"State\"]\n",
    "value = [\"Nikunj Ramani\", 24, \"Gujarat\"]\n",
    "dict1 = {i:j for (i,j)in zip(keys,value)}\n",
    "dict1"
   ]
  },
  {
   "cell_type": "markdown",
   "id": "911f63d4",
   "metadata": {},
   "source": [
    "### 4. What is tuple unpacking? \n",
    "- Tuple unpacking helps to separate each value one at a time. In Machine Learning algorithms, we usually get output as a tuple. Let’s say x = (avg, max), and we want to use these values separately for further analysis then can use the unpacking feature of tuples."
   ]
  },
  {
   "cell_type": "code",
   "execution_count": 11,
   "id": "931a1495",
   "metadata": {},
   "outputs": [
    {
     "name": "stdout",
     "output_type": "stream",
     "text": [
      "500\n",
      "600\n"
     ]
    }
   ],
   "source": [
    "x = (500,600)\n",
    "a,b=x\n",
    "print(a)\n",
    "print(b)"
   ]
  },
  {
   "cell_type": "markdown",
   "id": "4ceb2f2e",
   "metadata": {},
   "source": [
    "### 5.What are generators and decorators?\n",
    "- The python generators give an easy way of creating iterators. These generators instead of returning the function from the return statement use the \"yield” keyword. These are the generator version of the list comprehensions. If the function contains at least one “yield” statement, it becomes a generator function\n",
    "- Generator functions return a generator object. Generator objects are used either by calling the next method on the generator object or using the generator object in a “for in” loop \n",
    "---\n",
    "- Iterable - __iter__() or __getitem__()\n",
    "- Iterator - __next__()\n",
    "---\n",
    "- decorator allows us to modify or alter the functions, methods, and classes\n",
    "- Decorators are a very powerful and useful tool in Python since it allows programmers to modify the behaviour of function or class. Decorators allow us to wrap another function in order to extend the behaviour of the wrapped function, without permanently modifying it. But before diving deep into decorators let us understand some concepts that will come in handy in learning the decorators."
   ]
  },
  {
   "cell_type": "code",
   "execution_count": 8,
   "id": "c570c185",
   "metadata": {},
   "outputs": [
    {
     "name": "stdout",
     "output_type": "stream",
     "text": [
      "1\n"
     ]
    }
   ],
   "source": [
    "#generators\n",
    "def generator():\n",
    "    yield 1  #Yield is a keyword in Python that is used to return from a function without destroying the states of its local variable and when the function is called, the execution starts from the last yield statement.\n",
    "    \n",
    "for x in generator():\n",
    "    print(x)"
   ]
  },
  {
   "cell_type": "code",
   "execution_count": 19,
   "id": "7fcb47fe",
   "metadata": {},
   "outputs": [
    {
     "name": "stdout",
     "output_type": "stream",
     "text": [
      "<generator object fib at 0x000001B8C1473CF0>\n",
      "0\n",
      "1\n",
      "1\n",
      "2\n",
      "3\n"
     ]
    }
   ],
   "source": [
    "def fib(limit):\n",
    "    a,b = 0,1\n",
    "    \n",
    "    while a<limit:\n",
    "        yield a\n",
    "        a,b = b, a+b\n",
    "\n",
    "x = fib(4)\n",
    "print(x) #it save memory\n",
    "print(x.__next__())\n",
    "print(x.__next__())\n",
    "print(x.__next__())\n",
    "print(x.__next__())\n",
    "print(x.__next__())\n"
   ]
  },
  {
   "cell_type": "code",
   "execution_count": 25,
   "id": "21d49d13",
   "metadata": {},
   "outputs": [
    {
     "name": "stdout",
     "output_type": "stream",
     "text": [
      "Bhagvanbhai\n"
     ]
    }
   ],
   "source": [
    "#decorators\n",
    "def dec1(func1):\n",
    "    def nik():\n",
    "        print(\"Nikunj\")\n",
    "        func1()\n",
    "        print(\"Ramani\")\n",
    "    return nik\n",
    "def father():\n",
    "    print(\"Bhagvanbhai\")\n",
    "father()\n"
   ]
  },
  {
   "cell_type": "code",
   "execution_count": 27,
   "id": "9bd90a05",
   "metadata": {},
   "outputs": [
    {
     "name": "stdout",
     "output_type": "stream",
     "text": [
      "Nikunj\n",
      "Bhagvanbhai\n",
      "Ramani\n"
     ]
    }
   ],
   "source": [
    "x = dec1(father)\n",
    "x()"
   ]
  },
  {
   "cell_type": "code",
   "execution_count": 29,
   "id": "cdd75dea",
   "metadata": {},
   "outputs": [
    {
     "name": "stdout",
     "output_type": "stream",
     "text": [
      "Nikunj\n",
      "Bhagvanbhai\n",
      "Ramani\n"
     ]
    }
   ],
   "source": [
    "#you can also right @dec1\n",
    "@dec1\n",
    "def father():\n",
    "    print(\"Bhagvanbhai\")\n",
    "father()"
   ]
  },
  {
   "cell_type": "markdown",
   "id": "716b2326",
   "metadata": {},
   "source": [
    "### 6.What is the difference between %, /, and  //?\n",
    "- % it give remainder after division\n",
    "- / quotient after the division.\n",
    "- // rounds of quotient"
   ]
  },
  {
   "cell_type": "code",
   "execution_count": 12,
   "id": "b58f5607",
   "metadata": {},
   "outputs": [
    {
     "name": "stdout",
     "output_type": "stream",
     "text": [
      "1\n",
      "2.2\n",
      "2\n"
     ]
    }
   ],
   "source": [
    "a = 11\n",
    "b = 5\n",
    "print(a%b)\n",
    "print(a/b)\n",
    "print(a//b)"
   ]
  },
  {
   "cell_type": "markdown",
   "id": "77219d9f",
   "metadata": {},
   "source": [
    "### 7.What is the difference between is and ‘==’ ?\n",
    "- '==' check the equality (determines if the values of two objects are equal)\n",
    "- 'is' identity the variable(determines if they are the exact same object)"
   ]
  },
  {
   "cell_type": "code",
   "execution_count": 24,
   "id": "e3ddb636",
   "metadata": {},
   "outputs": [
    {
     "name": "stdout",
     "output_type": "stream",
     "text": [
      "[10, 15]\n",
      "True\n",
      "True\n",
      "False\n"
     ]
    }
   ],
   "source": [
    "a = [10,15]\n",
    "b = a\n",
    "c = a[:]\n",
    "print(c)\n",
    "print(a==b)\n",
    "print(a is b)\n",
    "print(c is a)"
   ]
  },
  {
   "cell_type": "markdown",
   "id": "696511e6",
   "metadata": {},
   "source": [
    "### 8.What is the difference between indexing and slicing?\n",
    "- Index -return one item and starting from zero, negative index start from -1\n",
    "- Slicing -return list and specify the range of index"
   ]
  },
  {
   "cell_type": "code",
   "execution_count": 26,
   "id": "d4837562",
   "metadata": {},
   "outputs": [
    {
     "data": {
      "text/plain": [
       "5"
      ]
     },
     "execution_count": 26,
     "metadata": {},
     "output_type": "execute_result"
    }
   ],
   "source": [
    "#Index\n",
    "n = [0,1,2,3,4,5,6,7,8,9]\n",
    "n[5]"
   ]
  },
  {
   "cell_type": "code",
   "execution_count": 27,
   "id": "8be2bf9a",
   "metadata": {},
   "outputs": [
    {
     "data": {
      "text/plain": [
       "[1, 2, 3, 4]"
      ]
     },
     "execution_count": 27,
     "metadata": {},
     "output_type": "execute_result"
    }
   ],
   "source": [
    "#Slicing\n",
    "n[1:5]"
   ]
  },
  {
   "cell_type": "markdown",
   "id": "2522f629",
   "metadata": {},
   "source": [
    "### 9. What is the lambda function?\n",
    "- also called an anonymous or nameless function.\n",
    "- because is does not have any def function or doesn't require return function\n",
    "- lambda arguments:expression"
   ]
  },
  {
   "cell_type": "code",
   "execution_count": 31,
   "id": "b465d619",
   "metadata": {},
   "outputs": [
    {
     "name": "stdout",
     "output_type": "stream",
     "text": [
      "20\n"
     ]
    }
   ],
   "source": [
    "y = lambda x:x+10\n",
    "print(y(10))"
   ]
  },
  {
   "cell_type": "markdown",
   "id": "3e8a8491",
   "metadata": {},
   "source": [
    "### 10.Explain zip() and enumerate() function\n",
    "- zip() it take multiple list as input and create those list into single tuples.\n",
    "- enumerate() it take list as input and return tuple(position/index, value)"
   ]
  },
  {
   "cell_type": "code",
   "execution_count": 6,
   "id": "fb9a210e",
   "metadata": {},
   "outputs": [],
   "source": [
    "l1 = [\"1\",\"2\",\"3\",\"4\"]\n",
    "l2 = [1,2,3,4]"
   ]
  },
  {
   "cell_type": "code",
   "execution_count": 7,
   "id": "3041eb86",
   "metadata": {},
   "outputs": [],
   "source": [
    "y = zip(l1,l2)#[('1',1),('2',2),('3',3),('4',4)]"
   ]
  },
  {
   "cell_type": "code",
   "execution_count": 60,
   "id": "8353c924",
   "metadata": {},
   "outputs": [],
   "source": [
    "z = enumerate(l1) # [(0,'1'),(1,'2'),(2,'3'),(3,'4')]"
   ]
  },
  {
   "cell_type": "markdown",
   "id": "c407dce0",
   "metadata": {},
   "source": [
    "### 11. map, reduce and filter functions\n",
    "- map() allows you to process and transform all the items in an iterable without using an explicit for loop.\n",
    "- Syntax : map(fun, iter)\n",
    "----\n",
    "- reduce() is useful when you need to apply a function to an iterable and reduce it to a single cumulative value.\n",
    "- Syntax : reduce(fun, seq)\n",
    "----\n",
    "- filter() The filter function can be applied to an iterable such as a list or a dictionary and create a new iterator. This new iterator can filter out certain specific elements based on the condition that you provide very efficiently.\n",
    "- Syntax : filter(function, sequence)"
   ]
  },
  {
   "cell_type": "code",
   "execution_count": 63,
   "id": "701db51d",
   "metadata": {},
   "outputs": [
    {
     "data": {
      "text/plain": [
       "<map at 0x1c0e2e97550>"
      ]
     },
     "execution_count": 63,
     "metadata": {},
     "output_type": "execute_result"
    }
   ],
   "source": [
    "#Map\n",
    "x = [1,2,3]\n",
    "y = map(lambda z : z**2, x)"
   ]
  },
  {
   "cell_type": "code",
   "execution_count": 67,
   "id": "1cc2a2e7",
   "metadata": {},
   "outputs": [
    {
     "name": "stdout",
     "output_type": "stream",
     "text": [
      "[1, 4, 9]\n"
     ]
    }
   ],
   "source": [
    "print(list(y))"
   ]
  },
  {
   "cell_type": "code",
   "execution_count": 76,
   "id": "9d74da56",
   "metadata": {},
   "outputs": [
    {
     "name": "stdout",
     "output_type": "stream",
     "text": [
      "17\n"
     ]
    }
   ],
   "source": [
    "#Reduce\n",
    "#import functools for reduce function\n",
    "import functools\n",
    "lis = [1, 3, 5, 6, 2]\n",
    "print(functools.reduce(lambda a,b:a+b, lis))\n",
    "#print(list(map(lambda a,b:a+b, lis)))  --><lambda>() missing 1 required positional argument: 'b'"
   ]
  },
  {
   "cell_type": "code",
   "execution_count": 85,
   "id": "9ca38509",
   "metadata": {},
   "outputs": [
    {
     "name": "stdout",
     "output_type": "stream",
     "text": [
      "[1, 3, 5, 13]\n"
     ]
    }
   ],
   "source": [
    "#filter\n",
    "seq = [0, 1, 2, 3, 5, 8, 13]\n",
    "result = filter(lambda x: x % 2 != 0, seq)\n",
    "print(list(result))\n"
   ]
  },
  {
   "cell_type": "markdown",
   "id": "c12cae80",
   "metadata": {},
   "source": [
    "### 12.What is the difference between del(), clear(), remove(),  and pop()?\n",
    "- del(): deletes the with respect to the position of the value. It does not return which value is deleted. It also changes the index towards the right by decreasing one value. It can also be used to delete the entire data structure.\n",
    "- clear(): clears the list.\n",
    "- remove(): it deletes with respect to the value hence can be used if you know which particular value to delete.\n",
    "- pop(): by default removes the last element and also returns back which value is deleted. It is used extensively when we would want to create referencing. In sense, we can store this deleted return value in a variable and use in future. "
   ]
  },
  {
   "cell_type": "code",
   "execution_count": 92,
   "id": "2f692df3",
   "metadata": {},
   "outputs": [
    {
     "data": {
      "text/plain": [
       "[2, 3, 4, 5]"
      ]
     },
     "execution_count": 92,
     "metadata": {},
     "output_type": "execute_result"
    }
   ],
   "source": [
    "l1 = [1,2,3,4,5]  #it delete using index\n",
    "del(l1[0])\n",
    "l1"
   ]
  },
  {
   "cell_type": "code",
   "execution_count": 94,
   "id": "fabf546f",
   "metadata": {},
   "outputs": [
    {
     "data": {
      "text/plain": [
       "[]"
      ]
     },
     "execution_count": 94,
     "metadata": {},
     "output_type": "execute_result"
    }
   ],
   "source": [
    "l2 = [1,2,3,4,5]\n",
    "l2.clear()\n",
    "l2"
   ]
  },
  {
   "cell_type": "code",
   "execution_count": 9,
   "id": "287501d2",
   "metadata": {},
   "outputs": [
    {
     "data": {
      "text/plain": [
       "[2, 3, 4, 5]"
      ]
     },
     "execution_count": 9,
     "metadata": {},
     "output_type": "execute_result"
    }
   ],
   "source": [
    "l3 = [1,2,3,4,5]  #It delete using value\n",
    "l3.remove(1)\n",
    "l3"
   ]
  },
  {
   "cell_type": "code",
   "execution_count": 10,
   "id": "86e930ad",
   "metadata": {},
   "outputs": [
    {
     "name": "stdout",
     "output_type": "stream",
     "text": [
      "4\n",
      "[1, 2, 3, 5]\n"
     ]
    }
   ],
   "source": [
    "l4 = [1,2,3,4,5]  #you can store deleted value\n",
    "x = l4.pop(3)\n",
    "print(x)\n",
    "print(l4)"
   ]
  },
  {
   "cell_type": "markdown",
   "id": "19e1622d",
   "metadata": {},
   "source": [
    "### 13.What is the difference between range, xrange, and arange?\n",
    "- range(): returns a Python list object, which is of integers. It is a function of BASE python.\n",
    "\n",
    "- xrange(): returns a range object.\n",
    "\n",
    "- arange(): is a function in Numpy library. It can return fractional values as well."
   ]
  },
  {
   "cell_type": "code",
   "execution_count": 107,
   "id": "2f19c58b",
   "metadata": {},
   "outputs": [
    {
     "data": {
      "text/plain": [
       "[0, 1, 2, 3, 4]"
      ]
     },
     "execution_count": 107,
     "metadata": {},
     "output_type": "execute_result"
    }
   ],
   "source": [
    "x = [i for i in range(0,5)]\n",
    "x"
   ]
  },
  {
   "cell_type": "code",
   "execution_count": 112,
   "id": "5e3a61fb",
   "metadata": {},
   "outputs": [
    {
     "data": {
      "text/plain": [
       "array([0. , 0.5, 1. , 1.5, 2. , 2.5, 3. , 3.5, 4. , 4.5])"
      ]
     },
     "execution_count": 112,
     "metadata": {},
     "output_type": "execute_result"
    }
   ],
   "source": [
    "import numpy as np\n",
    "y = np.arange(0,5,0.5)\n",
    "y"
   ]
  },
  {
   "cell_type": "markdown",
   "id": "4bb37d53",
   "metadata": {},
   "source": [
    "### 14. What is the difference between pass, continue and break?\n",
    "- Pass: It is used when you need some block of code syntactically, but you want to skip its execution. This is basically a null operation. Nothing happens when this is executed.\n",
    "\n",
    "- Continue: It allows to skip some part of a loop when some specific condition is met, and the control is transferred to the beginning of the loop. The loop does not terminate but continues with the next iteration.\n",
    "\n",
    "- Break: It allows the loop to terminate when some condition is met, and the control of the program flows to the  statement immediately after the body of the loop. If the break statement is inside a nested loop (the loop inside another loop), then the break statement will terminate the innermost loop."
   ]
  },
  {
   "cell_type": "code",
   "execution_count": 12,
   "id": "5a0a9fbc",
   "metadata": {},
   "outputs": [],
   "source": [
    "a = 10\n",
    "b = 20\n",
    " \n",
    "if(a<b):\n",
    "    pass\n",
    "else:\n",
    "    print(\"b<a\")"
   ]
  },
  {
   "cell_type": "code",
   "execution_count": 118,
   "id": "4bce39be",
   "metadata": {},
   "outputs": [
    {
     "name": "stdout",
     "output_type": "stream",
     "text": [
      "0\n",
      "1\n",
      "2\n",
      "4\n"
     ]
    }
   ],
   "source": [
    "for i in range(0,5):\n",
    "    if i==3:\n",
    "        continue\n",
    "    else:\n",
    "        print(i)"
   ]
  },
  {
   "cell_type": "code",
   "execution_count": 122,
   "id": "e9338583",
   "metadata": {},
   "outputs": [
    {
     "name": "stdout",
     "output_type": "stream",
     "text": [
      "I\n",
      " \n",
      "a\n",
      "m\n",
      " \n",
      "N\n",
      "i\n",
      "k\n"
     ]
    }
   ],
   "source": [
    "n = \"I am Nikunj\"\n",
    "for i in n:\n",
    "    if i==\"u\":\n",
    "        break\n",
    "    print(i)"
   ]
  },
  {
   "cell_type": "markdown",
   "id": "cc929f59",
   "metadata": {},
   "source": [
    "### 15.What is Regex? List some of the important Regex functions in Python.\n",
    "- Regular Expression or RegEx is a sequence of characters that are used to create search patterns. In Python, the following RegEx functions are mostly used:\n",
    "\n",
    "- match(): it checks for a match only at the beginning of the string.\n",
    "- search(): it locates a substring matching the RegEx pattern anywhere in the string \n",
    "- sub(): searches for the pattern and replaces with a new value\n",
    "- split(): it is used to split the text by the given RegEx pattern.\n",
    "- findall(): it is used to find all the sub-strings matching the RegEx pattern"
   ]
  },
  {
   "cell_type": "code",
   "execution_count": 123,
   "id": "5eff9774",
   "metadata": {},
   "outputs": [],
   "source": [
    "import re"
   ]
  },
  {
   "cell_type": "code",
   "execution_count": 126,
   "id": "962699b9",
   "metadata": {},
   "outputs": [],
   "source": [
    "x ='nikunj'\n",
    "String1 ='''my name is nikunj ramani. from Gujarat.'''\n",
    "String2 ='''nikunj ramani and come from gujarat'''"
   ]
  },
  {
   "cell_type": "code",
   "execution_count": 128,
   "id": "3a1d9a43",
   "metadata": {},
   "outputs": [
    {
     "name": "stdout",
     "output_type": "stream",
     "text": [
      "None\n",
      "<re.Match object; span=(0, 6), match='nikunj'>\n"
     ]
    }
   ],
   "source": [
    "print(re.match(x, String1, re.IGNORECASE)) #nikunj is not starting word\n",
    "print(re.match(x, String2, re.IGNORECASE))"
   ]
  },
  {
   "cell_type": "code",
   "execution_count": 131,
   "id": "4bf1bfd2",
   "metadata": {},
   "outputs": [
    {
     "name": "stdout",
     "output_type": "stream",
     "text": [
      "<re.Match object; span=(11, 17), match='nikunj'>\n",
      "<re.Match object; span=(0, 6), match='nikunj'>\n"
     ]
    }
   ],
   "source": [
    "print(re.search(x, String1, re.IGNORECASE))  #locate the word\n",
    "print(re.search(x, String2, re.IGNORECASE))"
   ]
  },
  {
   "cell_type": "code",
   "execution_count": 133,
   "id": "b563eca2",
   "metadata": {},
   "outputs": [
    {
     "name": "stdout",
     "output_type": "stream",
     "text": [
      "S~*ject has ~*er booked already\n"
     ]
    }
   ],
   "source": [
    "print(re.sub('ub', '~*', 'Subject has Uber booked already', flags=re.IGNORECASE))  #replace the new value in place of old value"
   ]
  },
  {
   "cell_type": "code",
   "execution_count": 134,
   "id": "4c29e1f8",
   "metadata": {},
   "outputs": [
    {
     "name": "stdout",
     "output_type": "stream",
     "text": [
      "['Words', 'words', 'Words']\n",
      "['Word', 's', 'words', 'Words']\n",
      "['On', '12th', 'Jan', '2016', 'at', '11', '02', 'AM']\n",
      "['On ', 'th Jan ', ', at ', ':', ' AM']\n"
     ]
    }
   ],
   "source": [
    "from re import split\n",
    " \n",
    "# '\\W+' denotes Non-Alphanumeric Characters\n",
    "# or group of characters Upon finding ','\n",
    "# or whitespace ' ', the split(), splits the\n",
    "# string from that point\n",
    "print(split('\\W+', 'Words, words , Words'))\n",
    "print(split('\\W+', \"Word's words Words\"))\n",
    " \n",
    "# Here ':', ' ' ,',' are not AlphaNumeric thus,\n",
    "# the point where splitting occurs\n",
    "print(split('\\W+', 'On 12th Jan 2016, at 11:02 AM'))\n",
    " \n",
    "# '\\d+' denotes Numeric Characters or group of\n",
    "# characters Splitting occurs at '12', '2016',\n",
    "# '11', '02' only\n",
    "print(split('\\d+', 'On 12th Jan 2016, at 11:02 AM'))"
   ]
  },
  {
   "cell_type": "code",
   "execution_count": 135,
   "id": "b2fdbf0e",
   "metadata": {},
   "outputs": [
    {
     "name": "stdout",
     "output_type": "stream",
     "text": [
      "['123456789', '987654321']\n"
     ]
    }
   ],
   "source": [
    "# A sample text string where regular expression  \n",
    "# is searched. \n",
    "string = \"\"\"Hello my Number is 123456789 and \n",
    "             my friend's number is 987654321\"\"\"\n",
    "    \n",
    "# A sample regular expression to find digits. \n",
    "regex = '\\d+'             \n",
    "    \n",
    "match = re.findall(regex, string) \n",
    "print(match) "
   ]
  },
  {
   "cell_type": "markdown",
   "id": "2cb8c807",
   "metadata": {},
   "source": [
    "- a, X, 9, < -- ordinary characters just match themselves exactly. The meta-characters which do not match themselves because they have special meanings are: . ^ $ * + ? { [ ] \\ | ( ) (details below)\n",
    ". (a period) -- matches any single character except newline '\\n'\n",
    "\\w -- (lowercase w) matches a \"word\" character: a letter or digit or underbar [a-zA-Z0-9_]. Note that although \"word\" is the mnemonic for this, it only matches a single word char, not a whole word. \\W (upper case W) matches any non-word character.\n",
    "\\b -- boundary between word and non-word\n",
    "\\s -- (lowercase s) matches a single whitespace character -- space, newline, return, tab, form [ \\n\\r\\t\\f]. \\S (upper case S) matches any non-whitespace character.\n",
    "\\t, \\n, \\r -- tab, newline, return\n",
    "\\d -- decimal digit [0-9] (some older regex utilities do not support \\d, but they all support \\w and \\s)\n",
    "^ = start, $ = end -- match the start or end of the string\n",
    "\\ -- inhibit the \"specialness\" of a character. So, for example, use \\. to match a period or \\\\ to match a slash. If you are unsure if a character has special meaning, such as '@', you can put a slash in front of it, \\@, to make sure it is treated just as a character."
   ]
  },
  {
   "cell_type": "markdown",
   "id": "382c1be2",
   "metadata": {},
   "source": [
    "### 16.What are namespaces in Python?\n",
    "- A namespace is a system that has a unique name for each and every object in Python. An object might be a variable or a method.\n",
    "- Its Name (which means name, a unique identifier) + Space(which talks something related to scope). Here, a name might be of any Python method or variable and space depends upon the location from where is trying to access a variable or a method.\n"
   ]
  },
  {
   "cell_type": "code",
   "execution_count": 136,
   "id": "6a561f6f",
   "metadata": {},
   "outputs": [],
   "source": [
    "# var1 is in the global namespace\n",
    "var1 = 5\n",
    "def some_func():\n",
    " \n",
    "    # var2 is in the local namespace\n",
    "    var2 = 6\n",
    "    def some_inner_func():\n",
    " \n",
    "        # var3 is in the nested local\n",
    "        # namespace\n",
    "        var3 = 7"
   ]
  },
  {
   "cell_type": "markdown",
   "id": "19ee5aa3",
   "metadata": {},
   "source": [
    "### 17. What is the difference between global and local variables?\n",
    "- Global variables are the ones that are defined and declared outside a function, and we need to use them inside a function. \n",
    "- A variable declared inside the function’s body or the local scope is known as a local variable. you can use only that function not outside"
   ]
  },
  {
   "cell_type": "markdown",
   "id": "c7c457b1",
   "metadata": {},
   "source": [
    "### 18.What is a default value?\n",
    "- Default argument means the function will take the default parameter value if the user has not given any predefined parameter value."
   ]
  },
  {
   "cell_type": "markdown",
   "id": "85067b4d",
   "metadata": {},
   "source": [
    "### 19. What does *args, **kwargs mean?\n",
    "- *args:\n",
    "\n",
    "- It is used to pass a variable number of arguments to a function\n",
    "- It reads the value one by one and prints the value\n",
    "- It is used when we are not sure of how many arguments will be passed to a function.\n",
    "- The symbol * is used to indicate to take in a variable number of arguments\n",
    "---\n",
    "- *kwargs:\n",
    "\n",
    "- It is used to pass a keyworded, variable-length argument list\n",
    "- It is used when we do not know how many keyword arguments to be passed to a function\n",
    "- The symbol ** is to indicate pass through keyword argument\n",
    "- This helps to unpack a dictionary"
   ]
  },
  {
   "cell_type": "code",
   "execution_count": 34,
   "id": "2b71af97",
   "metadata": {},
   "outputs": [
    {
     "name": "stdout",
     "output_type": "stream",
     "text": [
      "Hello\n",
      "Welcome\n",
      "to\n",
      "GeeksforGeeks\n"
     ]
    }
   ],
   "source": [
    "def myFun(*argv):\n",
    "    for arg in argv:\n",
    "        print (arg)\n",
    "myFun('Hello', 'Welcome', 'to', 'GeeksforGeeks')"
   ]
  },
  {
   "cell_type": "code",
   "execution_count": 39,
   "id": "4f861a37",
   "metadata": {},
   "outputs": [
    {
     "name": "stdout",
     "output_type": "stream",
     "text": [
      "first : Geeks\n",
      "mid : for\n",
      "last : Geeks\n",
      "nik : 8\n"
     ]
    }
   ],
   "source": [
    "def myFun(**kwargs):     #you can use variable \n",
    "    for key, value in kwargs.items():\n",
    "        print (\"%s : %s\" %(key, value))\n",
    " \n",
    "# Driver code\n",
    "myFun(first ='Geeks', mid ='for', last='Geeks', nik=8)  "
   ]
  },
  {
   "cell_type": "markdown",
   "id": "8b4b5d11",
   "metadata": {},
   "source": [
    "### 20.What is the difference between print and return?\n",
    "- print does not store any value. It simply prints the value\n",
    "- return gives the value as an output that can be stored in a variable or a data structure."
   ]
  },
  {
   "cell_type": "code",
   "execution_count": 45,
   "id": "28b3b1d8",
   "metadata": {},
   "outputs": [
    {
     "name": "stdout",
     "output_type": "stream",
     "text": [
      "10\n"
     ]
    }
   ],
   "source": [
    "x= 10\n",
    "print(x)\n",
    "\n",
    "    "
   ]
  },
  {
   "cell_type": "code",
   "execution_count": 43,
   "id": "fe067103",
   "metadata": {},
   "outputs": [
    {
     "data": {
      "text/plain": [
       "10"
      ]
     },
     "execution_count": 43,
     "metadata": {},
     "output_type": "execute_result"
    }
   ],
   "source": [
    "def nik(x):\n",
    "    return x\n",
    "nik(10)"
   ]
  },
  {
   "cell_type": "markdown",
   "id": "d0f24b55",
   "metadata": {},
   "source": [
    "### 21.What is the use of the With statement?\n",
    "- With statement helps in exception handling and also in processing the files when used with an open file.  Using this way:\n",
    "- with open(“filename,” “mode”) as file_name: \n",
    "\n",
    "- We can open and process the file, and we do not need to close the file explicitly. Post the with block exists., then the file object is closed. The With statement is resourceful and ensures that the file stream process is not stopped, and in case an exception is raised, it ends properly."
   ]
  },
  {
   "cell_type": "code",
   "execution_count": 46,
   "id": "5e8a8eb4",
   "metadata": {},
   "outputs": [],
   "source": [
    "# 1) without using with statement\n",
    "file = open('file_path', 'w')\n",
    "file.write('hello world !')\n",
    "file.close()"
   ]
  },
  {
   "cell_type": "code",
   "execution_count": 47,
   "id": "d3555108",
   "metadata": {},
   "outputs": [],
   "source": [
    "# using with statement\n",
    "with open('file_path', 'w') as file:\n",
    "    file.write('hello world !')"
   ]
  },
  {
   "cell_type": "markdown",
   "id": "d6c3fb3d",
   "metadata": {},
   "source": [
    "### 22.What is the difference between conditionals and control flows?\n",
    "- Conditionals are a set of rules performed if certain conditions are met. The purpose of the conditional flow is to control the execution of a block of code if the statement’s criteria match or not.  These are also referred to as ternary operators. These single-line if-else statements consist of true-false as outputs on evaluating a statement.\n",
    "\n",
    "- Control Flows are the order in which the code is executed. In Python, the control flow is regulated by conditional statements, loops, and call functions."
   ]
  },
  {
   "cell_type": "markdown",
   "id": "f73f0e39",
   "metadata": {},
   "source": [
    "### 23.How is exception handling achieved in Python?\n",
    "- With the help of exception handling, we can prevent the breaking of codes if an error is faced during the run time of the code. In Python, can implement the exception handling using two keywords: try and except.\n",
    "\n",
    "- Try tries to execute the code that belongs to it.\n",
    "\n",
    "- Except is used after the try block and catches all the specific errors which would appear on running the codes under the try block."
   ]
  },
  {
   "cell_type": "code",
   "execution_count": 54,
   "id": "f6904821",
   "metadata": {},
   "outputs": [
    {
     "name": "stdout",
     "output_type": "stream",
     "text": [
      "40\n"
     ]
    }
   ],
   "source": [
    "try:\n",
    "    a = 9 + 'Alphabet'\n",
    "except:\n",
    "    a = 40\n",
    "print(a)"
   ]
  },
  {
   "cell_type": "code",
   "execution_count": 53,
   "id": "5c95c77d",
   "metadata": {},
   "outputs": [],
   "source": [
    "# a = 9 + 'Alphabet'\n",
    "# print(a) -->unsupported operand type(s) for +: 'int' and 'str'"
   ]
  },
  {
   "cell_type": "markdown",
   "id": "d220fb70",
   "metadata": {},
   "source": [
    "### 24.When to use for loop and while loop?\n",
    "- For loop is used when you know beforehand which elements need to be iterated. If you want to iterate over every element of the data structure, then use For loop.\n",
    "- While loop is used to check for some conditions on the variables. Here, we know the exact condition to run but do not know how many times to run the loop."
   ]
  },
  {
   "cell_type": "markdown",
   "id": "96714b86",
   "metadata": {},
   "source": [
    "### 25.What is a class and object?\n",
    "- A class is a user-defined prototype which basically is a blueprint that defines the nature of a future object. \n",
    "- An object is an instance of the class. Therefore, classes can construct instances of objects. This is known as instantiation."
   ]
  },
  {
   "cell_type": "markdown",
   "id": "1f1a4eb9",
   "metadata": {},
   "source": [
    "### 26. Docstring?\n",
    "- Python documentation strings (or docstrings) provide a convenient way of associating documentation with Python modules, functions, classes, and methods.\n",
    "\n",
    "- It’s specified in source code that is used, like a comment, to document a specific segment of code. Unlike conventional source code comments, the docstring should describe what the function does, not how.\n",
    "---\n",
    "- #What should a docstring look like?\n",
    "\n",
    "- The doc string line should begin with a capital letter and end with a period.\n",
    "- The first line should be a short description.\n",
    "- If there are more lines in the documentation string, the second line should be blank, visually separating the summary from the rest of the description.\n",
    "- The following lines should be one or more paragraphs describing the object’s calling conventions, its side effects, etc."
   ]
  },
  {
   "cell_type": "code",
   "execution_count": 55,
   "id": "a64251d4",
   "metadata": {},
   "outputs": [
    {
     "name": "stdout",
     "output_type": "stream",
     "text": [
      "Using __doc__:\n",
      "Demonstrates triple double quotes\n",
      "    docstrings and does nothing really.\n"
     ]
    }
   ],
   "source": [
    "def my_function():\n",
    "    '''Demonstrates triple double quotes\n",
    "    docstrings and does nothing really.'''\n",
    "   \n",
    "    return None\n",
    "  \n",
    "print(\"Using __doc__:\")\n",
    "print(my_function.__doc__)"
   ]
  },
  {
   "cell_type": "code",
   "execution_count": 56,
   "id": "6fbb1e07",
   "metadata": {},
   "outputs": [
    {
     "name": "stdout",
     "output_type": "stream",
     "text": [
      "Using help:\n",
      "Help on function my_function in module __main__:\n",
      "\n",
      "my_function()\n",
      "    Demonstrates triple double quotes\n",
      "    docstrings and does nothing really.\n",
      "\n"
     ]
    }
   ],
   "source": [
    "print(\"Using help:\")\n",
    "help(my_function)"
   ]
  },
  {
   "cell_type": "code",
   "execution_count": null,
   "id": "b1f68d96",
   "metadata": {},
   "outputs": [],
   "source": []
  }
 ],
 "metadata": {
  "kernelspec": {
   "display_name": "Python 3 (ipykernel)",
   "language": "python",
   "name": "python3"
  },
  "language_info": {
   "codemirror_mode": {
    "name": "ipython",
    "version": 3
   },
   "file_extension": ".py",
   "mimetype": "text/x-python",
   "name": "python",
   "nbconvert_exporter": "python",
   "pygments_lexer": "ipython3",
   "version": "3.9.7"
  }
 },
 "nbformat": 4,
 "nbformat_minor": 5
}
